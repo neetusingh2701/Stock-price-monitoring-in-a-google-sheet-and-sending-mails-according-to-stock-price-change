{
 "cells": [
  {
   "cell_type": "markdown",
   "metadata": {},
   "source": [
    "## Extracting share prices and sending mails weekly with the latest trend and sending mail with significant or specific change in prices"
   ]
  },
  {
   "cell_type": "markdown",
   "metadata": {},
   "source": [
    "### 1. Import libraries"
   ]
  },
  {
   "cell_type": "code",
   "execution_count": 598,
   "metadata": {},
   "outputs": [],
   "source": [
    "import requests\n",
    "from bs4 import BeautifulSoup\n",
    "import pandas as pd\n",
    "from pandas import DataFrame\n",
    "from datetime import date, timedelta, datetime\n",
    "import smtplib\n",
    "import ssl\n",
    "from email.message import EmailMessage\n",
    "import pygsheets"
   ]
  },
  {
   "cell_type": "markdown",
   "metadata": {},
   "source": [
    "###  2. Make connection with the google sheet\n",
    "#### (a) Create the Client\n",
    "#### (b) Enter the name of the downloaded KEYS \n",
    "#### (c) File in service_account_file\n",
    "#### (d) Steps to make a google sheet accessible using pygsheets use the steps mentioned here under the heading \"Create Google Service Account\" : https://www.analyticsvidhya.com/blog/2020/07/read-and-update-google-spreadsheets-with-python/"
   ]
  },
  {
   "cell_type": "code",
   "execution_count": 599,
   "metadata": {},
   "outputs": [],
   "source": [
    "client = pygsheets.authorize(service_account_file=\"clean-patrol-336109-5906eacae9fb.json\")"
   ]
  },
  {
   "cell_type": "markdown",
   "metadata": {},
   "source": [
    "### 3. Access the google sheet and its worksheets"
   ]
  },
  {
   "cell_type": "code",
   "execution_count": 600,
   "metadata": {},
   "outputs": [],
   "source": [
    "sheet=client.open('demo')\n",
    "ws1=sheet.worksheet('title','url')"
   ]
  },
  {
   "cell_type": "markdown",
   "metadata": {},
   "source": [
    "### 4. Access google sheet's data and add data to google sheet\n",
    "##### 4.1 Collect URLs of organisation's stock price from google sheet and use beautiful soup and requests library to get stock prices"
   ]
  },
  {
   "cell_type": "code",
   "execution_count": 601,
   "metadata": {},
   "outputs": [],
   "source": [
    "url_df=ws1.get_as_df(include_tailing_empty_rows=False)\n",
    "organisation_all=[]\n",
    "date_time=[]\n",
    "date_time.append(str(date.today()))\n",
    "for i in range(len(url_df)):\n",
    "    url=url_df.iloc[i,0]\n",
    "    r=requests.get(url)\n",
    "    soup=BeautifulSoup(r.content,'html.parser')\n",
    "    organisation=soup.title.text\n",
    "    org_name=organisation.split(',')[0]\n",
    "    organisation_all.append(org_name)\n",
    "all1=DataFrame(columns=organisation_all)\n",
    "all1['Date']=date_time   "
   ]
  },
  {
   "cell_type": "code",
   "execution_count": 602,
   "metadata": {},
   "outputs": [],
   "source": [
    "for i in range(len(url_df)):\n",
    "    url=url_df.iloc[i,0]\n",
    "    r=requests.get(url)\n",
    "    soup=BeautifulSoup(r.content,'html.parser')\n",
    "    price=soup.find('div',{'id':'nsecp'}).text \n",
    "    change=soup.find('div',{'id':'nsechange'}).text\n",
    "    organisation_all.append(org_name)\n",
    "    all1.iloc[0,i]=price\n",
    "price_all=all1.iloc[:,[2,0,1]]"
   ]
  },
  {
   "cell_type": "code",
   "execution_count": 603,
   "metadata": {},
   "outputs": [],
   "source": [
    "ws2=sheet.worksheet('title','stock_price')\n",
    "ws2.update_col(1,['Date'])"
   ]
  },
  {
   "cell_type": "markdown",
   "metadata": {},
   "source": [
    "##### 4.2 populate stock data in worksheet (keep copy_head = True for first run and then make it False"
   ]
  },
  {
   "cell_type": "code",
   "execution_count": 605,
   "metadata": {},
   "outputs": [],
   "source": [
    "cell_price='A'+str(len(ws2.get_all_records())+2)\n",
    "ws2.set_dataframe(price_all,cell_price,copy_head =False)"
   ]
  },
  {
   "cell_type": "markdown",
   "metadata": {},
   "source": [
    "### 5. Create a bar chart of all data (need to create just once, chart will update automatically after every insertion of data)"
   ]
  },
  {
   "cell_type": "markdown",
   "metadata": {},
   "source": [
    "##### 5.1 Data for chart:"
   ]
  },
  {
   "cell_type": "code",
   "execution_count": 606,
   "metadata": {},
   "outputs": [],
   "source": [
    "y_end=len(ws2.get_all_values())\n",
    "x_end=len(ws2.get_all_values())\n",
    "cc1=[]\n",
    "for k in range(len(ws2.get_all_records(majdim='COLUMNS'))):\n",
    "    y_end2=k+2\n",
    "    cc2=list([(2,y_end2),(y_end,y_end2)])\n",
    "    cc1.append(cc2)"
   ]
  },
  {
   "cell_type": "markdown",
   "metadata": {},
   "source": [
    "##### 5.2 Anchor cell:"
   ]
  },
  {
   "cell_type": "code",
   "execution_count": 607,
   "metadata": {},
   "outputs": [],
   "source": [
    "AC1=len(ws2.get_all_records(majdim='COLUMNS'))+3\n",
    "AC=(1,AC1)"
   ]
  },
  {
   "cell_type": "markdown",
   "metadata": {},
   "source": [
    "##### 5.3 Add bar chart:"
   ]
  },
  {
   "cell_type": "code",
   "execution_count": null,
   "metadata": {},
   "outputs": [],
   "source": [
    "ws2.add_chart(('A2',(x_end,1)),cc1,title='Price',anchor_cell=AC,chart_type=pygsheets.ChartType.BAR)"
   ]
  },
  {
   "cell_type": "markdown",
   "metadata": {},
   "source": [
    "### 6. Compare today's data with previous 7 day average and generate a mail if today's data fall below the 7 day average"
   ]
  },
  {
   "cell_type": "markdown",
   "metadata": {},
   "source": [
    "##### 6.1 previous 7 day data"
   ]
  },
  {
   "cell_type": "code",
   "execution_count": 614,
   "metadata": {},
   "outputs": [],
   "source": [
    "df1=ws2.get_as_df(include_tailing_empty_rows=False)\n",
    "date_now=max(df1.Date)\n",
    "date_7=str(((datetime.strptime(max(df1.Date),\"%Y-%m-%d\")+timedelta(days=-7))).date())\n",
    "seven_day_data=df1[(df1['Date']>=date_7) & (df1['Date']!=date_now)]"
   ]
  },
  {
   "cell_type": "markdown",
   "metadata": {},
   "source": [
    "##### 6.2 Check for 7 day average and send mail if today's data is lesser than 7 day average \n",
    "##### (To send mail through python first follow the first step mentioned in this webpage : https://towardsdatascience.com/how-to-easily-automate-emails-with-python-8b476045c151 )"
   ]
  },
  {
   "cell_type": "code",
   "execution_count": null,
   "metadata": {},
   "outputs": [],
   "source": [
    "email_sender='input email id of sender'\n",
    "password='key of google sheet'\n",
    "email_receiver='input email id of receiver'\n",
    "for k in range(len(url_df)):\n",
    "    org_mail=list(df1.columns)[k+1]\n",
    "    print(org_mail)\n",
    "    if df1[df1['Date']==date_now].iloc[0,k+1]<seven_day_data.mean(axis=0)[0]:\n",
    "        print(org_mail+' '+'less than 7 day average')\n",
    "        subject='todays stocks update'\n",
    "        body=org_mail +\" \"+ 'are less than 7 day average'\n",
    "        em=EmailMessage()\n",
    "        em['From']=email_sender\n",
    "        em['To']=email_receiver\n",
    "        em['Subject']=Subject\n",
    "        em.set_content(body)\n",
    "        context=ssl.create_default_context()\n",
    "        with smtplib.SMTP_SSL('smtp.gmail.com', 465, context=context) as smtp:\n",
    "            smtp.login(email_sender, password)\n",
    "            smtp.sendmail(email_sender, email_receiver, em.as_string())\n",
    "    else:\n",
    "        print(org_mail+' '+'Higher than 7 day average')"
   ]
  }
 ],
 "metadata": {
  "kernelspec": {
   "display_name": "Python 3",
   "language": "python",
   "name": "python3"
  },
  "language_info": {
   "codemirror_mode": {
    "name": "ipython",
    "version": 3
   },
   "file_extension": ".py",
   "mimetype": "text/x-python",
   "name": "python",
   "nbconvert_exporter": "python",
   "pygments_lexer": "ipython3",
   "version": "3.8.3"
  }
 },
 "nbformat": 4,
 "nbformat_minor": 4
}
